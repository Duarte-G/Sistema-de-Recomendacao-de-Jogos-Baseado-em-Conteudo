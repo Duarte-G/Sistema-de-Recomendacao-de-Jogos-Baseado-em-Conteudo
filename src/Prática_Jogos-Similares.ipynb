{
 "cells": [
  {
   "cell_type": "code",
   "execution_count": 60,
   "id": "b212a75e-40ff-4d1d-930c-a6c0f6f1fbe6",
   "metadata": {},
   "outputs": [],
   "source": [
    "import pandas as pd\n",
    "from sklearn.feature_extraction.text import CountVectorizer\n",
    "from sklearn.metrics.pairwise import cosine_similarity\n",
    "import ast\n",
    "\n",
    "# Carregando os dados dos jogos\n",
    "games_df = pd.read_csv(r'data\\steam.csv')\n",
    "\n",
    "# Remover linhas com valores nulos\n",
    "games_df.dropna(inplace=True)"
   ]
  },
  {
   "cell_type": "code",
   "execution_count": 61,
   "id": "20facf4e-299e-4970-88b6-916a8de08b85",
   "metadata": {},
   "outputs": [],
   "source": [
    "# Combinar as colunas relevantes para criar tags\n",
    "games_df['tags'] = games_df['developer'] + ' ' + games_df['categories'] + ' ' + games_df['genres'] "
   ]
  },
  {
   "cell_type": "code",
   "execution_count": 62,
   "id": "a0ccf1aa-2029-44d2-9b4a-8930450ce1ef",
   "metadata": {},
   "outputs": [],
   "source": [
    "# Converte tudo para letras minusculas\n",
    "games_df['tags'] = games_df['tags'].apply(lambda X: X.lower())"
   ]
  },
  {
   "cell_type": "code",
   "execution_count": 63,
   "id": "c287e9f9-9581-4f57-8497-f33e3e1281f0",
   "metadata": {},
   "outputs": [],
   "source": [
    "# Vetorizar tags\n",
    "# Máximo de 5000 polavras\n",
    "cv = CountVectorizer(max_features=5000, stop_words='english')\n",
    "vectors = cv.fit_transform(games_df['tags']).toarray()"
   ]
  },
  {
   "cell_type": "code",
   "execution_count": 64,
   "id": "66718f2f-1873-4981-8230-8dd172e86dd4",
   "metadata": {},
   "outputs": [],
   "source": [
    "# Calcular similaridade\n",
    "similarity = cosine_similarity(vectors)"
   ]
  },
  {
   "cell_type": "code",
   "execution_count": 65,
   "id": "cf8fba69-df26-41c7-9196-1d612c616d2c",
   "metadata": {},
   "outputs": [],
   "source": [
    "# recomedação de jogos de acordo com outros jogos\n",
    "def recommend(game_name):\n",
    "    try:\n",
    "        game_index = games_df[games_df['name'] == game_name].index[0]\n",
    "        distances = similarity[game_index]\n",
    "        games_list = sorted(list(enumerate(distances)), reverse = True, key = lambda x: x[1])[1:6]\n",
    "    \n",
    "        print(\"Jogos similares a '{}': \".format(game_name))\n",
    "        for i in games_list:\n",
    "            print(games_df.iloc[i[0]]['name'])\n",
    "    except IndexError:\n",
    "        print(\"Jogo não encontrado.\")"
   ]
  },
  {
   "cell_type": "markdown",
   "id": "fbb19bf8-3375-4530-99b7-2378c414b7e9",
   "metadata": {},
   "source": [
    "# Exemplos de Uso:"
   ]
  },
  {
   "cell_type": "code",
   "execution_count": 75,
   "id": "9d81843f-3ab4-4bc2-b1d1-d7fec5fd6e04",
   "metadata": {},
   "outputs": [
    {
     "name": "stdout",
     "output_type": "stream",
     "text": [
      "Jogos similares a 'Alan Wake': \n",
      "Remember Me\n",
      "Gladiator: Sword of Vengeance\n",
      "Deputy Dangle\n",
      "Batman™: Arkham Origins Blackgate - Deluxe Edition\n",
      "The Flame in the Flood\n"
     ]
    }
   ],
   "source": [
    "recommend('Alan Wake')"
   ]
  },
  {
   "cell_type": "code",
   "execution_count": 76,
   "id": "eda37648-1414-4083-8254-267113646d08",
   "metadata": {},
   "outputs": [
    {
     "name": "stdout",
     "output_type": "stream",
     "text": [
      "Jogos similares a 'Counter-Strike: Global Offensive': \n",
      "Dota 2\n",
      "Team Fortress 2\n",
      "Line of Sight\n",
      "Chivalry: Medieval Warfare\n",
      "Depth\n"
     ]
    }
   ],
   "source": [
    "recommend('Counter-Strike: Global Offensive')"
   ]
  },
  {
   "cell_type": "code",
   "execution_count": 77,
   "id": "8e09690d-64a7-4eb5-9082-4fd54520cf2d",
   "metadata": {},
   "outputs": [
    {
     "name": "stdout",
     "output_type": "stream",
     "text": [
      "Jogos similares a 'DayZ': \n",
      "Half-Life\n",
      "Red Orchestra 2: Heroes of Stalingrad with Rising Storm\n",
      "Tower Unite\n",
      "Ballistic Overkill\n",
      "Miscreated\n"
     ]
    }
   ],
   "source": [
    "recommend('DayZ')"
   ]
  },
  {
   "cell_type": "code",
   "execution_count": 78,
   "id": "498d4e8a-8e19-4dcf-a072-4efcb78f2240",
   "metadata": {},
   "outputs": [
    {
     "name": "stdout",
     "output_type": "stream",
     "text": [
      "Jogos similares a 'Call of Duty®': \n",
      "Call of Duty® 2\n",
      "Call of Duty® 4: Modern Warfare®\n",
      "Chaser\n",
      "Aliens versus Predator Classic 2000\n",
      "F.E.A.R. 2: Project Origin\n"
     ]
    }
   ],
   "source": [
    "recommend('Call of Duty®')"
   ]
  },
  {
   "cell_type": "code",
   "execution_count": 73,
   "id": "8aa578c0-6ea7-4b6e-a6f9-78d1482e5e2a",
   "metadata": {},
   "outputs": [
    {
     "name": "stdout",
     "output_type": "stream",
     "text": [
      "Jogo não encontrado.\n"
     ]
    }
   ],
   "source": [
    "recommend('Rocket League')"
   ]
  },
  {
   "cell_type": "code",
   "execution_count": 74,
   "id": "e09156b4-c5e8-4f1a-869f-6a40e1a465ef",
   "metadata": {},
   "outputs": [
    {
     "name": "stdout",
     "output_type": "stream",
     "text": [
      "Jogos similares a 'Devil May Cry 4': \n",
      "Benji Challenges\n",
      "Laws of Machine\n",
      "Whimsical Quest\n",
      "Resident Evil 7 / Biohazard 7 Teaser: Beginning Hour\n",
      "Devil May Cry® 3 Special Edition\n"
     ]
    }
   ],
   "source": [
    "recommend('Devil May Cry 4')"
   ]
  },
  {
   "cell_type": "code",
   "execution_count": null,
   "id": "ed1ee3cf-9837-4b8c-8b0f-bc53c870a8b4",
   "metadata": {},
   "outputs": [],
   "source": []
  }
 ],
 "metadata": {
  "kernelspec": {
   "display_name": "Python 3 (ipykernel)",
   "language": "python",
   "name": "python3"
  },
  "language_info": {
   "codemirror_mode": {
    "name": "ipython",
    "version": 3
   },
   "file_extension": ".py",
   "mimetype": "text/x-python",
   "name": "python",
   "nbconvert_exporter": "python",
   "pygments_lexer": "ipython3",
   "version": "3.12.6"
  }
 },
 "nbformat": 4,
 "nbformat_minor": 5
}
